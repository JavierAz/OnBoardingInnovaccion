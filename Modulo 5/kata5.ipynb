{
 "cells": [
  {
   "cell_type": "markdown",
   "metadata": {},
   "source": [
    "## Ejercicio 1 - utilizar operadores aritmeticos"
   ]
  },
  {
   "cell_type": "code",
   "execution_count": 1,
   "metadata": {},
   "outputs": [],
   "source": [
    "tierra = 149597870\n",
    "jupiter = 778547200"
   ]
  },
  {
   "cell_type": "code",
   "execution_count": 6,
   "metadata": {},
   "outputs": [
    {
     "name": "stdout",
     "output_type": "stream",
     "text": [
      "628949330\n",
      "390577534\n"
     ]
    }
   ],
   "source": [
    "#distancia entre planetas\n",
    "distancia= abs(jupiter-tierra)\n",
    "# en millas\n",
    "distancia_millas= round(distancia*0.621)\n",
    "print(distancia)\n",
    "print(distancia_millas)"
   ]
  },
  {
   "cell_type": "markdown",
   "metadata": {},
   "source": [
    "## Ejercicio 2: convierte cadenas en números y usa valores absolutos"
   ]
  },
  {
   "cell_type": "code",
   "execution_count": 10,
   "metadata": {},
   "outputs": [],
   "source": [
    "#Recibir datos del usuario\n",
    "planeta1 = input('Ingresa la distancia del primer planeta en KM: ')\n",
    "Planeta2 = input('Ingresa la distancia del segundo planeta en KM: ')"
   ]
  },
  {
   "cell_type": "code",
   "execution_count": 11,
   "metadata": {},
   "outputs": [],
   "source": [
    "# convertir las cadenas de los planetas en números enteros\n",
    "Distancia1=int(planeta1)\n",
    "Distancia2=int(Planeta2)"
   ]
  },
  {
   "cell_type": "code",
   "execution_count": 14,
   "metadata": {},
   "outputs": [
    {
     "name": "stdout",
     "output_type": "stream",
     "text": [
      "Distancia entre planetas en KM: 50300000\n",
      "Distancia entre planetas en Millas: 31236300\n"
     ]
    }
   ],
   "source": [
    "#calcular diferencia entre planetas\n",
    "dis=abs(Distancia1-Distancia2)\n",
    "#convertir a millas\n",
    "dis_millas=round(dis*0.621)\n",
    "print(f'Distancia entre planetas en KM: {dis}')\n",
    "print(f'Distancia entre planetas en Millas: {dis_millas}')"
   ]
  }
 ],
 "metadata": {
  "interpreter": {
   "hash": "31f2aee4e71d21fbe5cf8b01ff0e069b9275f58929596ceb00d14d90e3e16cd6"
  },
  "kernelspec": {
   "display_name": "Python 3.8.10 64-bit",
   "language": "python",
   "name": "python3"
  },
  "language_info": {
   "codemirror_mode": {
    "name": "ipython",
    "version": 3
   },
   "file_extension": ".py",
   "mimetype": "text/x-python",
   "name": "python",
   "nbconvert_exporter": "python",
   "pygments_lexer": "ipython3",
   "version": "3.8.10"
  },
  "orig_nbformat": 4
 },
 "nbformat": 4,
 "nbformat_minor": 2
}
