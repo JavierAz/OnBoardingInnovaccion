{
 "cells": [
  {
   "cell_type": "markdown",
   "metadata": {},
   "source": [
    "## Ejercicio 1: Trabajar con argumentos en funciones"
   ]
  },
  {
   "cell_type": "code",
   "execution_count": 8,
   "metadata": {},
   "outputs": [],
   "source": [
    "#funcion para leer 3 tanques de combustible y muestre el promedio\n",
    "def tanks(externo, interno, reserva):\n",
    "    average = (externo + interno + reserva)/3\n",
    "    print(f\"\"\"Report!\n",
    "    Externo: {externo},\n",
    "    Interno: {interno},\n",
    "    Reserva: {reserva},\n",
    "    Promedio: {average}\"\"\")"
   ]
  },
  {
   "cell_type": "code",
   "execution_count": 9,
   "metadata": {},
   "outputs": [
    {
     "name": "stdout",
     "output_type": "stream",
     "text": [
      "Report!\n",
      "    Externo: 10,\n",
      "    Interno: 20,\n",
      "    Reserva: 30,\n",
      "    Promedio: 20.0\n",
      "None\n"
     ]
    }
   ],
   "source": [
    "#llamamos a la funcion que genera el reporte\n",
    "print(tanks(10,20,30))"
   ]
  },
  {
   "cell_type": "code",
   "execution_count": 14,
   "metadata": {},
   "outputs": [
    {
     "data": {
      "text/plain": [
       "20.0"
      ]
     },
     "execution_count": 14,
     "metadata": {},
     "output_type": "execute_result"
    }
   ],
   "source": [
    "#sustraemos la funcion para que el promedio sea separado\n",
    "def average(values):\n",
    "    total = sum(values)\n",
    "    items = len(values)\n",
    "    return total / items\n",
    "\n",
    "average([10,20,30])"
   ]
  },
  {
   "cell_type": "code",
   "execution_count": 17,
   "metadata": {},
   "outputs": [],
   "source": [
    "#actualizamos la funcion\n",
    "def tanks(externo, interno, reserva):\n",
    "    prom = average([externo,interno,reserva])\n",
    "    print(f\"\"\"Report!\n",
    "    Externo: {externo},\n",
    "    Interno: {interno},\n",
    "    Reserva: {reserva},\n",
    "    Promedio:(funtion) {prom}\"\"\")"
   ]
  },
  {
   "cell_type": "code",
   "execution_count": 18,
   "metadata": {},
   "outputs": [
    {
     "name": "stdout",
     "output_type": "stream",
     "text": [
      "Report!\n",
      "    Externo: 10,\n",
      "    Interno: 20,\n",
      "    Reserva: 30,\n",
      "    Promedio:(funtion) 20.0\n",
      "None\n"
     ]
    }
   ],
   "source": [
    "print(tanks(10,20,30))"
   ]
  },
  {
   "cell_type": "markdown",
   "metadata": {},
   "source": [
    "## Ejercicio 2: trabajo con argumentos de palabra clave"
   ]
  },
  {
   "cell_type": "code",
   "execution_count": 23,
   "metadata": {},
   "outputs": [],
   "source": [
    "# Función con un informe preciso de la misión. Considera hora de prelanzamiento, tiempo de vuelo, destino, tanque externo y tanque interno\n",
    "def report(prelanzamiento, vuelo, destino, t_externo, t_interno):\n",
    "    return(f\"\"\"Time to fly!\n",
    "    destination is {destino}\n",
    "    time: {prelanzamiento+vuelo}\n",
    "    combustible: {t_externo+t_interno} in tanks\n",
    "    \"\"\")"
   ]
  },
  {
   "cell_type": "code",
   "execution_count": 24,
   "metadata": {},
   "outputs": [
    {
     "name": "stdout",
     "output_type": "stream",
     "text": [
      "Time to fly!\n",
      "    destination is moon\n",
      "    time: 40\n",
      "    combustible: 80 in tanks\n",
      "    \n"
     ]
    }
   ],
   "source": [
    "print(report(10, 30, 'moon', 50, 30))"
   ]
  },
  {
   "cell_type": "code",
   "execution_count": 25,
   "metadata": {},
   "outputs": [
    {
     "name": "stdout",
     "output_type": "stream",
     "text": [
      "Time to fly 2.0!\n",
      "    destination is moon\n",
      "    time is 25 minutes\n",
      "    our combustible is 40000\n",
      "    \n"
     ]
    }
   ],
   "source": [
    "# Escribe tu nueva función de reporte considerando lo anterior\n",
    "def report(destino, *minutes, **gas):\n",
    "    return(f\"\"\"Time to fly 2.0!\n",
    "    destination is {destino}\n",
    "    time is {sum(minutes)} minutes\n",
    "    our combustible is {sum(gas.values())}\n",
    "    \"\"\")\n",
    "\n",
    "print(report('moon', 10, 10, 5, main=30000, external=10000))"
   ]
  },
  {
   "cell_type": "code",
   "execution_count": 29,
   "metadata": {},
   "outputs": [
    {
     "name": "stdout",
     "output_type": "stream",
     "text": [
      "Time to fly 3.0\n",
      "    Destination is Moon\n",
      "    time is 74 minutes\n",
      "    our combustible is: 500000\n",
      "    main tank --> 300000 gallons external tank --> 200000 gallons \n"
     ]
    }
   ],
   "source": [
    "#escribe la funcion donde externes los tanques\n",
    "def report(destino, *minutes, **gas):\n",
    "    main = (f\"\"\"Time to fly 3.0\n",
    "    Destination is {destino}\n",
    "    time is {sum(minutes)} minutes\n",
    "    our combustible is: {sum(gas.values())}\n",
    "    \"\"\")\n",
    "    for name, gallons in gas.items():\n",
    "        main += f\"{name} tank --> {gallons} gallons \"\n",
    "    return main\n",
    "\n",
    "print(report(\"Moon\", 8, 11, 55, main=300000, external=200000))"
   ]
  }
 ],
 "metadata": {
  "interpreter": {
   "hash": "31f2aee4e71d21fbe5cf8b01ff0e069b9275f58929596ceb00d14d90e3e16cd6"
  },
  "kernelspec": {
   "display_name": "Python 3.8.10 64-bit",
   "language": "python",
   "name": "python3"
  },
  "language_info": {
   "codemirror_mode": {
    "name": "ipython",
    "version": 3
   },
   "file_extension": ".py",
   "mimetype": "text/x-python",
   "name": "python",
   "nbconvert_exporter": "python",
   "pygments_lexer": "ipython3",
   "version": "3.8.10"
  },
  "orig_nbformat": 4
 },
 "nbformat": 4,
 "nbformat_minor": 2
}
